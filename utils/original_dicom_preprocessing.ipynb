{
 "cells": [
  {
   "cell_type": "code",
   "execution_count": 29,
   "outputs": [
    {
     "data": {
      "text/plain": "['.DS_Store', 'yanghanyi', 'huajiancheng', 'xiangshiyin', 'kuangxinxing']"
     },
     "execution_count": 29,
     "metadata": {},
     "output_type": "execute_result"
    }
   ],
   "source": [
    "import os\n",
    "import shutil\n",
    "\n",
    "path = '/Users/tingxuanhu/Desktop/dicom'\n",
    "\n",
    "path_to_save = '/Users/tingxuanhu/Desktop' + '/dicom_images' + '/Cryptococcosis'\n",
    "if not os.path.exists(path_to_save):\n",
    "    os.makedirs(path_to_save)\n",
    "\n",
    "directory = os.listdir(path)\n",
    "directory"
   ],
   "metadata": {
    "collapsed": false,
    "pycharm": {
     "name": "#%%\n"
    }
   }
  },
  {
   "cell_type": "code",
   "execution_count": 30,
   "outputs": [
    {
     "name": "stdout",
     "output_type": "stream",
     "text": [
      "RAVPYHBTis finished!\n",
      "10GIJS3Nis finished!\n",
      "THTVUGI1is finished!\n",
      "FIVNZYGRis finished!\n"
     ]
    }
   ],
   "source": [
    "for specific in directory:\n",
    "    if not specific.endswith('.DS_Store'):\n",
    "        people = os.path.join(path, specific)\n",
    "        person = os.listdir(people)\n",
    "\n",
    "        for dir in person:\n",
    "            if dir != '.DS_Store' and dir != 'LOCKFILE' and dir != 'VERSION' and dir != 'DICOMDIR':\n",
    "                image_files = os.path.join(people, dir)\n",
    "                # print(image_files)\n",
    "\n",
    "                for img_ in os.listdir(image_files):\n",
    "                    if img_ != '.DS_Store' and img_ != 'VERSION':\n",
    "                        # print(img_)\n",
    "                        \"\"\"   img_\n",
    "                        RAVPYHBT\n",
    "                        10GIJS3N\n",
    "                        THTVUGI1\n",
    "                        FIVNZYGR\n",
    "                        \"\"\"\n",
    "                        image_end = os.path.join(image_files, img_)\n",
    "                        # print(image_end)\n",
    "                        \"\"\"  image_end\n",
    "                        /Users/tingxuanhu/Desktop/dicom/yanghanyi/MYJ3O32B/RAVPYHBT\n",
    "                        /Users/tingxuanhu/Desktop/dicom/huajiancheng/UYW0ODGZ/10GIJS3N\n",
    "                        /Users/tingxuanhu/Desktop/dicom/xiangshiyin/P4JJ03H0/THTVUGI1\n",
    "                        /Users/tingxuanhu/Desktop/dicom/kuangxinxing/FJEFILOZ/FIVNZYGR\n",
    "                        \"\"\"\n",
    "\n",
    "\n",
    "                        path_to_save_images = os.path.join(path_to_save, img_)\n",
    "                        # print(path_to_save_images)\n",
    "                        \"\"\"path_to_save_images\n",
    "                        /Users/tingxuanhu/Desktop/dicom_images/Cryptococcosis/RAVPYHBT\n",
    "                        /Users/tingxuanhu/Desktop/dicom_images/Cryptococcosis/10GIJS3N\n",
    "                        /Users/tingxuanhu/Desktop/dicom_images/Cryptococcosis/THTVUGI1\n",
    "                        /Users/tingxuanhu/Desktop/dicom_images/Cryptococcosis/FIVNZYGR\n",
    "                        \"\"\"\n",
    "\n",
    "                        for figure in os.listdir(image_end):\n",
    "                            if figure != 'VERSION' and figure != '.DS_Store':\n",
    "                                # print(figure)\n",
    "                                target_figure = os.path.join(image_end, figure)\n",
    "\n",
    "                                if not os.path.exists(path_to_save_images):\n",
    "                                    os.makedirs(path_to_save_images)\n",
    "\n",
    "                                judge_if_exist = os.path.join(path_to_save_images, figure)\n",
    "                                # print(judge_if_exist)\n",
    "\n",
    "                                if not os.path.exists(judge_if_exist):\n",
    "                                    shutil.copy(target_figure, path_to_save_images)\n",
    "\n",
    "                        print(img_ + 'is finished!')\n"
   ],
   "metadata": {
    "collapsed": false,
    "pycharm": {
     "name": "#%%\n"
    }
   }
  },
  {
   "cell_type": "code",
   "execution_count": null,
   "outputs": [],
   "source": [],
   "metadata": {
    "collapsed": false,
    "pycharm": {
     "name": "#%%\n"
    }
   }
  }
 ],
 "metadata": {
  "kernelspec": {
   "display_name": "Python 3",
   "language": "python",
   "name": "python3"
  },
  "language_info": {
   "codemirror_mode": {
    "name": "ipython",
    "version": 2
   },
   "file_extension": ".py",
   "mimetype": "text/x-python",
   "name": "python",
   "nbconvert_exporter": "python",
   "pygments_lexer": "ipython2",
   "version": "2.7.6"
  }
 },
 "nbformat": 4,
 "nbformat_minor": 0
}