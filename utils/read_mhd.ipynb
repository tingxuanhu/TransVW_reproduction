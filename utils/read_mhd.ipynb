{
 "cells": [
  {
   "cell_type": "code",
   "execution_count": 33,
   "metadata": {
    "collapsed": false,
    "pycharm": {
     "name": "#%%\n"
    }
   },
   "outputs": [],
   "source": [
    "import SimpleITK as sitk\n",
    "import matplotlib.pyplot as plt\n",
    "import os\n",
    "\n",
    "import numpy as np\n",
    "\n",
    "base_path = \"/Users/tingxuanhu/Downloads/dataset/luna16-7\"\n",
    "\n",
    "path_to_save = \"/Users/tingxuanhu/Downloads/dataset/LUNA/original_numpy/luna_16_7\""
   ]
  },
  {
   "cell_type": "code",
   "execution_count": 44,
   "metadata": {
    "collapsed": false,
    "pycharm": {
     "name": "#%%\n"
    }
   },
   "outputs": [],
   "source": [
    "idx = 0\n",
    "for file in os.listdir(base_path):  # return a list\n",
    "    if not file.endswith('.DS_Store'):\n",
    "        expand_file = os.path.join(base_path, file)  # /Users/tingxuanhu/Downloads/dataset/luna16-7/1.3.6.1.4.1.14519.5.2.1.6279.6001.850739282072340578344345230132.mhd\n",
    "\n",
    "        read_file = os.listdir(expand_file)\n",
    "        \"\"\"\n",
    "        ['1.3.6.1.4.1.14519.5.2.1.6279.6001.850739282072340578344345230132.mhd', '1.3.6.1.4.1.14519.5.2.1.6279.6001.850739282072340578344345230132.raw']\n",
    "        ......\n",
    "        \"\"\"\n",
    "        for img in read_file:\n",
    "            if img.endswith('.mhd'):\n",
    "                idx += 1\n",
    "\n",
    "                img_address = os.path.join(expand_file, img)\n",
    "                dicom_mhd = sitk.ReadImage(img_address)\n",
    "\n",
    "                # # dicom_mhd中可以获取层间距，方向向量等等dicom文件metadata中包含的信息\n",
    "                # dicom_mhd.GetSpacing()\n",
    "\n",
    "                # dicom_array为序列包含的所有Image信息，使用SimpleITK读取时，传入参数dicom_mhd，会自动读取 *.raw文件\n",
    "\n",
    "                dicom_array = sitk.GetArrayFromImage(dicom_mhd)  # --> np.ndarray\n",
    "\n",
    "                np.save(os.path.join(path_to_save, f\"num_{idx}_image.npy\"), dicom_array)\n",
    "\n",
    "                # # 第一维度为序列图像数量，后两维度为高度和宽度\n",
    "                # dicom_array.shape\n",
    "                # plt.figure(figsize=(20,16))\n",
    "                # plt.gray()\n",
    "                # plt.subplots_adjust(0,0,1,1,0.01,0.01)\n",
    "                # for i in range(dicom_array.shape[0]):\n",
    "                #     plt.subplot(5,6,i+1), plt.imshow(dicom_array[i]), plt.axis('off')\n",
    "                #     # use plt.savefig(...) here if you want to save the images as .jpg, e.g.,\n",
    "                # plt.show()\n"
   ]
  },
  {
   "cell_type": "code",
   "execution_count": null,
   "metadata": {
    "collapsed": false,
    "pycharm": {
     "name": "#%%\n"
    }
   },
   "outputs": [],
   "source": []
  }
 ],
 "metadata": {
  "kernelspec": {
   "display_name": "Python 3",
   "language": "python",
   "name": "python3"
  },
  "language_info": {
   "codemirror_mode": {
    "name": "ipython",
    "version": 2
   },
   "file_extension": ".py",
   "mimetype": "text/x-python",
   "name": "python",
   "nbconvert_exporter": "python",
   "pygments_lexer": "ipython2",
   "version": "2.7.6"
  }
 },
 "nbformat": 4,
 "nbformat_minor": 0
}
