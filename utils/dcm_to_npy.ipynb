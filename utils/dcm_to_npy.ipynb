{
 "cells": [
  {
   "cell_type": "code",
   "execution_count": 1,
   "outputs": [],
   "source": [
    "import SimpleITK as sitk"
   ],
   "metadata": {
    "collapsed": false,
    "pycharm": {
     "name": "#%%\n"
    }
   }
  },
  {
   "cell_type": "code",
   "execution_count": 20,
   "outputs": [
    {
     "data": {
      "text/plain": "numpy.ndarray"
     },
     "execution_count": 20,
     "metadata": {},
     "output_type": "execute_result"
    }
   ],
   "source": [
    "reader = sitk.ImageSeriesReader()  # Read series of image files into a SimpleITK image.\n",
    "\n",
    "dicom_names = sitk.ImageSeriesReader_GetGDCMSeriesFileNames(\n",
    "    \"/Users/tingxuanhu/Desktop/dicom_images/Cryptococcosis/10GIJS3N\")\n",
    "\n",
    "reader.SetFileNames(dicom_names)\n",
    "\n",
    "image = reader.Execute()\n",
    "\n",
    "image_array = sitk.GetArrayFromImage(image)  # z, y, x\n",
    "\n",
    "type(image_array)"
   ],
   "metadata": {
    "collapsed": false,
    "pycharm": {
     "name": "#%%\n"
    }
   }
  },
  {
   "cell_type": "code",
   "execution_count": 30,
   "outputs": [
    {
     "data": {
      "text/plain": "array([[[-1024, -1024, -1024, ..., -1024, -1024, -1024],\n        [-1024, -1024, -1024, ..., -1024, -1024, -1024],\n        [-1024, -1024, -1024, ..., -1024, -1024, -1024],\n        ...,\n        [-1024, -1024, -1024, ..., -1024, -1024, -1024],\n        [-1024, -1024, -1024, ..., -1024, -1024, -1024],\n        [-1024, -1024, -1024, ..., -1024, -1024, -1024]],\n\n       [[-1024, -1024, -1024, ..., -1024, -1024, -1024],\n        [-1024, -1024, -1024, ..., -1024, -1024, -1024],\n        [-1024, -1024, -1024, ..., -1024, -1024, -1024],\n        ...,\n        [-1024, -1024, -1024, ..., -1024, -1024, -1024],\n        [-1024, -1024, -1024, ..., -1024, -1024, -1024],\n        [-1024, -1024, -1024, ..., -1024, -1024, -1024]],\n\n       [[-1024, -1024, -1024, ..., -1024, -1024, -1024],\n        [-1024, -1024, -1024, ..., -1024, -1024, -1024],\n        [-1024, -1024, -1024, ..., -1024, -1024, -1024],\n        ...,\n        [-1024, -1024, -1024, ..., -1024, -1024, -1024],\n        [-1024, -1024, -1024, ..., -1024, -1024, -1024],\n        [-1024, -1024, -1024, ..., -1024, -1024, -1024]],\n\n       ...,\n\n       [[-1024, -1024, -1024, ..., -1024, -1024, -1024],\n        [-1024, -1024, -1024, ..., -1024, -1024, -1024],\n        [-1024, -1024, -1024, ..., -1024, -1024, -1024],\n        ...,\n        [-1024, -1024, -1024, ..., -1024, -1024, -1024],\n        [-1024, -1024, -1024, ..., -1024, -1024, -1024],\n        [-1024, -1024, -1024, ..., -1024, -1024, -1024]],\n\n       [[-1024, -1024, -1024, ..., -1024, -1024, -1024],\n        [-1024, -1024, -1024, ..., -1024, -1024, -1024],\n        [-1024, -1024, -1024, ..., -1024, -1024, -1024],\n        ...,\n        [-1024, -1024, -1024, ..., -1024, -1024, -1024],\n        [-1024, -1024, -1024, ..., -1024, -1024, -1024],\n        [-1024, -1024, -1024, ..., -1024, -1024, -1024]],\n\n       [[-1024, -1024, -1024, ..., -1024, -1024, -1024],\n        [-1024, -1024, -1024, ..., -1024, -1024, -1024],\n        [-1024, -1024, -1024, ..., -1024, -1024, -1024],\n        ...,\n        [-1024, -1024, -1024, ..., -1024, -1024, -1024],\n        [-1024, -1024, -1024, ..., -1024, -1024, -1024],\n        [-1024, -1024, -1024, ..., -1024, -1024, -1024]]], dtype=int16)"
     },
     "execution_count": 30,
     "metadata": {},
     "output_type": "execute_result"
    }
   ],
   "source": [
    "image_array"
   ],
   "metadata": {
    "collapsed": false,
    "pycharm": {
     "name": "#%%\n"
    }
   }
  },
  {
   "cell_type": "code",
   "execution_count": 21,
   "outputs": [
    {
     "data": {
      "text/plain": "(64, 512, 512)"
     },
     "execution_count": 21,
     "metadata": {},
     "output_type": "execute_result"
    }
   ],
   "source": [
    "image_array.shape  # z, y, x"
   ],
   "metadata": {
    "collapsed": false,
    "pycharm": {
     "name": "#%%\n"
    }
   }
  },
  {
   "cell_type": "code",
   "execution_count": 33,
   "outputs": [
    {
     "data": {
      "text/plain": "(512, 512, 64)"
     },
     "execution_count": 33,
     "metadata": {},
     "output_type": "execute_result"
    }
   ],
   "source": [
    "import numpy as np\n",
    "\n",
    "image = np.transpose(image_array, (2, 1, 0))\n",
    "image.shape"
   ],
   "metadata": {
    "collapsed": false,
    "pycharm": {
     "name": "#%%\n"
    }
   }
  },
  {
   "cell_type": "code",
   "execution_count": 18,
   "outputs": [],
   "source": [
    "output_path = '/Users/tingxuanhu/Desktop/dicom/1.npy'\n",
    "\n",
    "np.save(output_path, image)"
   ],
   "metadata": {
    "collapsed": false,
    "pycharm": {
     "name": "#%%\n"
    }
   }
  },
  {
   "cell_type": "code",
   "execution_count": null,
   "outputs": [],
   "source": [
    "image_array = sitk.GetArrayFromImage(image) # z, y, x\n",
    "origin = image.GetOrigin() # x, y, z\n",
    "spacing = image.GetSpacing() # x, y, z"
   ],
   "metadata": {
    "collapsed": false,
    "pycharm": {
     "name": "#%%\n"
    }
   }
  },
  {
   "cell_type": "code",
   "execution_count": 28,
   "outputs": [
    {
     "data": {
      "text/plain": "<Figure size 432x288 with 1 Axes>",
      "image/png": "[encoded data removed]"
     },
     "metadata": {
      "needs_background": "light"
     },
     "output_type": "display_data"
    },
    {
     "data": {
      "text/plain": "<Figure size 432x288 with 1 Axes>",
      "image/png": "[encoded data removed]"
     },
     "metadata": {
      "needs_background": "light"
     },
     "output_type": "display_data"
    },
    {
     "data": {
      "text/plain": "<Figure size 432x288 with 1 Axes>",
      "image/png": "[encoded data removed]"
     },
     "metadata": {
      "needs_background": "light"
     },
     "output_type": "display_data"
    }
   ],
   "source": [
    "import matplotlib.pyplot as plt\n",
    "\n",
    "plt.figure()\n",
    "plt.imshow(image_array[:, :, 0], cmap='gray')\n",
    "\n",
    "plt.figure()\n",
    "plt.imshow(image_array[:, :, 0].T, cmap='gray')\n",
    "\n",
    "plt.figure()\n",
    "plt.imshow(image_array[:, :, 0].T)\n",
    "\n",
    "def imshow(x):\n",
    "    plt.figure()\n",
    "    plt.imshow(x, cmap='gray')"
   ],
   "metadata": {
    "collapsed": false,
    "pycharm": {
     "name": "#%%\n"
    }
   }
  }
 ],
 "metadata": {
  "kernelspec": {
   "display_name": "Python 3",
   "language": "python",
   "name": "python3"
  },
  "language_info": {
   "codemirror_mode": {
    "name": "ipython",
    "version": 2
   },
   "file_extension": ".py",
   "mimetype": "text/x-python",
   "name": "python",
   "nbconvert_exporter": "python",
   "pygments_lexer": "ipython2",
   "version": "2.7.6"
  }
 },
 "nbformat": 4,
 "nbformat_minor": 0
}