{
 "cells": [
  {
   "cell_type": "code",
   "execution_count": 1,
   "outputs": [],
   "source": [
    "import os\n",
    "from glob import glob"
   ],
   "metadata": {
    "collapsed": false,
    "pycharm": {
     "name": "#%%\n"
    }
   }
  },
  {
   "cell_type": "code",
   "execution_count": 23,
   "outputs": [],
   "source": [
    "path = \"/Users/tingxuanhu/Desktop/dicom_images/Cryptococcosis/THTVUGI1\"\n",
    "\n",
    "images = glob(os.path.join(path, \"*\"))"
   ],
   "metadata": {
    "collapsed": false,
    "pycharm": {
     "name": "#%%\n"
    }
   }
  },
  {
   "cell_type": "code",
   "execution_count": 24,
   "outputs": [
    {
     "data": {
      "text/plain": "61"
     },
     "execution_count": 24,
     "metadata": {},
     "output_type": "execute_result"
    }
   ],
   "source": [
    "len(images)"
   ],
   "metadata": {
    "collapsed": false,
    "pycharm": {
     "name": "#%%\n"
    }
   }
  },
  {
   "cell_type": "code",
   "execution_count": 7,
   "outputs": [
    {
     "data": {
      "text/plain": "['/Users/tingxuanhu/Desktop/dicom_images/Cryptococcosis/10GIJS3N/I38__000',\n '/Users/tingxuanhu/Desktop/dicom_images/Cryptococcosis/10GIJS3N/I43__000',\n '/Users/tingxuanhu/Desktop/dicom_images/Cryptococcosis/10GIJS3N/I04__0000',\n '/Users/tingxuanhu/Desktop/dicom_images/Cryptococcosis/10GIJS3N/I14__000',\n '/Users/tingxuanhu/Desktop/dicom_images/Cryptococcosis/10GIJS3N/I55__000',\n '/Users/tingxuanhu/Desktop/dicom_images/Cryptococcosis/10GIJS3N/I22__000',\n '/Users/tingxuanhu/Desktop/dicom_images/Cryptococcosis/10GIJS3N/I06__0000',\n '/Users/tingxuanhu/Desktop/dicom_images/Cryptococcosis/10GIJS3N/I63__000',\n '/Users/tingxuanhu/Desktop/dicom_images/Cryptococcosis/10GIJS3N/I34__000',\n '/Users/tingxuanhu/Desktop/dicom_images/Cryptococcosis/10GIJS3N/I18__000',\n '/Users/tingxuanhu/Desktop/dicom_images/Cryptococcosis/10GIJS3N/I59__000',\n '/Users/tingxuanhu/Desktop/dicom_images/Cryptococcosis/10GIJS3N/I58__000',\n '/Users/tingxuanhu/Desktop/dicom_images/Cryptococcosis/10GIJS3N/I19__000',\n '/Users/tingxuanhu/Desktop/dicom_images/Cryptococcosis/10GIJS3N/I35__000',\n '/Users/tingxuanhu/Desktop/dicom_images/Cryptococcosis/10GIJS3N/I62__000',\n '/Users/tingxuanhu/Desktop/dicom_images/Cryptococcosis/10GIJS3N/I23__000',\n '/Users/tingxuanhu/Desktop/dicom_images/Cryptococcosis/10GIJS3N/I02__0000',\n '/Users/tingxuanhu/Desktop/dicom_images/Cryptococcosis/10GIJS3N/I54__000',\n '/Users/tingxuanhu/Desktop/dicom_images/Cryptococcosis/10GIJS3N/I15__000',\n '/Users/tingxuanhu/Desktop/dicom_images/Cryptococcosis/10GIJS3N/I42__000',\n '/Users/tingxuanhu/Desktop/dicom_images/Cryptococcosis/10GIJS3N/I39__000',\n '/Users/tingxuanhu/Desktop/dicom_images/Cryptococcosis/10GIJS3N/I24__000',\n '/Users/tingxuanhu/Desktop/dicom_images/Cryptococcosis/10GIJS3N/I07__0000',\n '/Users/tingxuanhu/Desktop/dicom_images/Cryptococcosis/10GIJS3N/I32__000',\n '/Users/tingxuanhu/Desktop/dicom_images/Cryptococcosis/10GIJS3N/I49__000',\n '/Users/tingxuanhu/Desktop/dicom_images/Cryptococcosis/10GIJS3N/I28__000',\n '/Users/tingxuanhu/Desktop/dicom_images/Cryptococcosis/10GIJS3N/I45__000',\n '/Users/tingxuanhu/Desktop/dicom_images/Cryptococcosis/10GIJS3N/I12__000',\n '/Users/tingxuanhu/Desktop/dicom_images/Cryptococcosis/10GIJS3N/I53__000',\n '/Users/tingxuanhu/Desktop/dicom_images/Cryptococcosis/10GIJS3N/I05__0000',\n '/Users/tingxuanhu/Desktop/dicom_images/Cryptococcosis/10GIJS3N/I52__000',\n '/Users/tingxuanhu/Desktop/dicom_images/Cryptococcosis/10GIJS3N/I01__0000',\n '/Users/tingxuanhu/Desktop/dicom_images/Cryptococcosis/10GIJS3N/I13__000',\n '/Users/tingxuanhu/Desktop/dicom_images/Cryptococcosis/10GIJS3N/I44__000',\n '/Users/tingxuanhu/Desktop/dicom_images/Cryptococcosis/10GIJS3N/I29__000',\n '/Users/tingxuanhu/Desktop/dicom_images/Cryptococcosis/10GIJS3N/I48__000',\n '/Users/tingxuanhu/Desktop/dicom_images/Cryptococcosis/10GIJS3N/I33__000',\n '/Users/tingxuanhu/Desktop/dicom_images/Cryptococcosis/10GIJS3N/I03__0000',\n '/Users/tingxuanhu/Desktop/dicom_images/Cryptococcosis/10GIJS3N/I64__000',\n '/Users/tingxuanhu/Desktop/dicom_images/Cryptococcosis/10GIJS3N/I25__000',\n '/Users/tingxuanhu/Desktop/dicom_images/Cryptococcosis/10GIJS3N/I30__000',\n '/Users/tingxuanhu/Desktop/dicom_images/Cryptococcosis/10GIJS3N/I26__000',\n '/Users/tingxuanhu/Desktop/dicom_images/Cryptococcosis/10GIJS3N/I51__000',\n '/Users/tingxuanhu/Desktop/dicom_images/Cryptococcosis/10GIJS3N/I10__000',\n '/Users/tingxuanhu/Desktop/dicom_images/Cryptococcosis/10GIJS3N/I47__000',\n '/Users/tingxuanhu/Desktop/dicom_images/Cryptococcosis/10GIJS3N/I09__0000',\n '/Users/tingxuanhu/Desktop/dicom_images/Cryptococcosis/10GIJS3N/I46__000',\n '/Users/tingxuanhu/Desktop/dicom_images/Cryptococcosis/10GIJS3N/I11__000',\n '/Users/tingxuanhu/Desktop/dicom_images/Cryptococcosis/10GIJS3N/I50__000',\n '/Users/tingxuanhu/Desktop/dicom_images/Cryptococcosis/10GIJS3N/I27__000',\n '/Users/tingxuanhu/Desktop/dicom_images/Cryptococcosis/10GIJS3N/I31__000',\n '/Users/tingxuanhu/Desktop/dicom_images/Cryptococcosis/10GIJS3N/I57__000',\n '/Users/tingxuanhu/Desktop/dicom_images/Cryptococcosis/10GIJS3N/I16__000',\n '/Users/tingxuanhu/Desktop/dicom_images/Cryptococcosis/10GIJS3N/I41__000',\n '/Users/tingxuanhu/Desktop/dicom_images/Cryptococcosis/10GIJS3N/I36__000',\n '/Users/tingxuanhu/Desktop/dicom_images/Cryptococcosis/10GIJS3N/I61__000',\n '/Users/tingxuanhu/Desktop/dicom_images/Cryptococcosis/10GIJS3N/I20__000',\n '/Users/tingxuanhu/Desktop/dicom_images/Cryptococcosis/10GIJS3N/I21__000',\n '/Users/tingxuanhu/Desktop/dicom_images/Cryptococcosis/10GIJS3N/I60__000',\n '/Users/tingxuanhu/Desktop/dicom_images/Cryptococcosis/10GIJS3N/I37__000',\n '/Users/tingxuanhu/Desktop/dicom_images/Cryptococcosis/10GIJS3N/I08__0000',\n '/Users/tingxuanhu/Desktop/dicom_images/Cryptococcosis/10GIJS3N/I40__000',\n '/Users/tingxuanhu/Desktop/dicom_images/Cryptococcosis/10GIJS3N/I17__000',\n '/Users/tingxuanhu/Desktop/dicom_images/Cryptococcosis/10GIJS3N/I56__000']"
     },
     "execution_count": 7,
     "metadata": {},
     "output_type": "execute_result"
    }
   ],
   "source": [
    "images"
   ],
   "metadata": {
    "collapsed": false,
    "pycharm": {
     "name": "#%%\n"
    }
   }
  },
  {
   "cell_type": "code",
   "execution_count": 16,
   "outputs": [
    {
     "data": {
      "text/plain": "array([[[[[0., 0., 0., ..., 0., 0., 0.],\n          [0., 0., 0., ..., 0., 0., 0.],\n          [0., 0., 0., ..., 0., 0., 0.],\n          ...,\n          [0., 0., 0., ..., 0., 0., 0.],\n          [0., 0., 0., ..., 0., 0., 0.],\n          [0., 0., 0., ..., 0., 0., 0.]],\n\n         [[0., 0., 0., ..., 0., 0., 0.],\n          [0., 0., 0., ..., 0., 0., 0.],\n          [0., 0., 0., ..., 0., 0., 0.],\n          ...,\n          [0., 0., 0., ..., 0., 0., 0.],\n          [0., 0., 0., ..., 0., 0., 0.],\n          [0., 0., 0., ..., 0., 0., 0.]],\n\n         [[0., 0., 0., ..., 0., 0., 0.],\n          [0., 0., 0., ..., 0., 0., 0.],\n          [0., 0., 0., ..., 0., 0., 0.],\n          ...,\n          [0., 0., 0., ..., 0., 0., 0.],\n          [0., 0., 0., ..., 0., 0., 0.],\n          [0., 0., 0., ..., 0., 0., 0.]],\n\n         ...,\n\n         [[0., 0., 0., ..., 0., 0., 0.],\n          [0., 0., 0., ..., 0., 0., 0.],\n          [0., 0., 0., ..., 0., 0., 0.],\n          ...,\n          [0., 0., 0., ..., 0., 0., 0.],\n          [0., 0., 0., ..., 0., 0., 0.],\n          [0., 0., 0., ..., 0., 0., 0.]],\n\n         [[0., 0., 0., ..., 0., 0., 0.],\n          [0., 0., 0., ..., 0., 0., 0.],\n          [0., 0., 0., ..., 0., 0., 0.],\n          ...,\n          [0., 0., 0., ..., 0., 0., 0.],\n          [0., 0., 0., ..., 0., 0., 0.],\n          [0., 0., 0., ..., 0., 0., 0.]],\n\n         [[0., 0., 0., ..., 0., 0., 0.],\n          [0., 0., 0., ..., 0., 0., 0.],\n          [0., 0., 0., ..., 0., 0., 0.],\n          ...,\n          [0., 0., 0., ..., 0., 0., 0.],\n          [0., 0., 0., ..., 0., 0., 0.],\n          [0., 0., 0., ..., 0., 0., 0.]]]],\n\n\n\n       [[[[0., 0., 0., ..., 0., 0., 0.],\n          [0., 0., 0., ..., 0., 0., 0.],\n          [0., 0., 0., ..., 0., 0., 0.],\n          ...,\n          [0., 0., 0., ..., 0., 0., 0.],\n          [0., 0., 0., ..., 0., 0., 0.],\n          [0., 0., 0., ..., 0., 0., 0.]],\n\n         [[0., 0., 0., ..., 0., 0., 0.],\n          [0., 0., 0., ..., 0., 0., 0.],\n          [0., 0., 0., ..., 0., 0., 0.],\n          ...,\n          [0., 0., 0., ..., 0., 0., 0.],\n          [0., 0., 0., ..., 0., 0., 0.],\n          [0., 0., 0., ..., 0., 0., 0.]],\n\n         [[0., 0., 0., ..., 0., 0., 0.],\n          [0., 0., 0., ..., 0., 0., 0.],\n          [0., 0., 0., ..., 0., 0., 0.],\n          ...,\n          [0., 0., 0., ..., 0., 0., 0.],\n          [0., 0., 0., ..., 0., 0., 0.],\n          [0., 0., 0., ..., 0., 0., 0.]],\n\n         ...,\n\n         [[0., 0., 0., ..., 0., 0., 0.],\n          [0., 0., 0., ..., 0., 0., 0.],\n          [0., 0., 0., ..., 0., 0., 0.],\n          ...,\n          [0., 0., 0., ..., 0., 0., 0.],\n          [0., 0., 0., ..., 0., 0., 0.],\n          [0., 0., 0., ..., 0., 0., 0.]],\n\n         [[0., 0., 0., ..., 0., 0., 0.],\n          [0., 0., 0., ..., 0., 0., 0.],\n          [0., 0., 0., ..., 0., 0., 0.],\n          ...,\n          [0., 0., 0., ..., 0., 0., 0.],\n          [0., 0., 0., ..., 0., 0., 0.],\n          [0., 0., 0., ..., 0., 0., 0.]],\n\n         [[0., 0., 0., ..., 0., 0., 0.],\n          [0., 0., 0., ..., 0., 0., 0.],\n          [0., 0., 0., ..., 0., 0., 0.],\n          ...,\n          [0., 0., 0., ..., 0., 0., 0.],\n          [0., 0., 0., ..., 0., 0., 0.],\n          [0., 0., 0., ..., 0., 0., 0.]]]],\n\n\n\n       [[[[0., 0., 0., ..., 0., 0., 0.],\n          [0., 0., 0., ..., 0., 0., 0.],\n          [0., 0., 0., ..., 0., 0., 0.],\n          ...,\n          [0., 0., 0., ..., 0., 0., 0.],\n          [0., 0., 0., ..., 0., 0., 0.],\n          [0., 0., 0., ..., 0., 0., 0.]],\n\n         [[0., 0., 0., ..., 0., 0., 0.],\n          [0., 0., 0., ..., 0., 0., 0.],\n          [0., 0., 0., ..., 0., 0., 0.],\n          ...,\n          [0., 0., 0., ..., 0., 0., 0.],\n          [0., 0., 0., ..., 0., 0., 0.],\n          [0., 0., 0., ..., 0., 0., 0.]],\n\n         [[0., 0., 0., ..., 0., 0., 0.],\n          [0., 0., 0., ..., 0., 0., 0.],\n          [0., 0., 0., ..., 0., 0., 0.],\n          ...,\n          [0., 0., 0., ..., 0., 0., 0.],\n          [0., 0., 0., ..., 0., 0., 0.],\n          [0., 0., 0., ..., 0., 0., 0.]],\n\n         ...,\n\n         [[0., 0., 0., ..., 0., 0., 0.],\n          [0., 0., 0., ..., 0., 0., 0.],\n          [0., 0., 0., ..., 0., 0., 0.],\n          ...,\n          [0., 0., 0., ..., 0., 0., 0.],\n          [0., 0., 0., ..., 0., 0., 0.],\n          [0., 0., 0., ..., 0., 0., 0.]],\n\n         [[0., 0., 0., ..., 0., 0., 0.],\n          [0., 0., 0., ..., 0., 0., 0.],\n          [0., 0., 0., ..., 0., 0., 0.],\n          ...,\n          [0., 0., 0., ..., 0., 0., 0.],\n          [0., 0., 0., ..., 0., 0., 0.],\n          [0., 0., 0., ..., 0., 0., 0.]],\n\n         [[0., 0., 0., ..., 0., 0., 0.],\n          [0., 0., 0., ..., 0., 0., 0.],\n          [0., 0., 0., ..., 0., 0., 0.],\n          ...,\n          [0., 0., 0., ..., 0., 0., 0.],\n          [0., 0., 0., ..., 0., 0., 0.],\n          [0., 0., 0., ..., 0., 0., 0.]]]],\n\n\n\n       ...,\n\n\n\n       [[[[0., 0., 0., ..., 0., 0., 0.],\n          [0., 0., 0., ..., 0., 0., 0.],\n          [0., 0., 0., ..., 0., 0., 0.],\n          ...,\n          [0., 0., 0., ..., 0., 0., 0.],\n          [0., 0., 0., ..., 0., 0., 0.],\n          [0., 0., 0., ..., 0., 0., 0.]],\n\n         [[0., 0., 0., ..., 0., 0., 0.],\n          [0., 0., 0., ..., 0., 0., 0.],\n          [0., 0., 0., ..., 0., 0., 0.],\n          ...,\n          [0., 0., 0., ..., 0., 0., 0.],\n          [0., 0., 0., ..., 0., 0., 0.],\n          [0., 0., 0., ..., 0., 0., 0.]],\n\n         [[0., 0., 0., ..., 0., 0., 0.],\n          [0., 0., 0., ..., 0., 0., 0.],\n          [0., 0., 0., ..., 0., 0., 0.],\n          ...,\n          [0., 0., 0., ..., 0., 0., 0.],\n          [0., 0., 0., ..., 0., 0., 0.],\n          [0., 0., 0., ..., 0., 0., 0.]],\n\n         ...,\n\n         [[0., 0., 0., ..., 0., 0., 0.],\n          [0., 0., 0., ..., 0., 0., 0.],\n          [0., 0., 0., ..., 0., 0., 0.],\n          ...,\n          [0., 0., 0., ..., 0., 0., 0.],\n          [0., 0., 0., ..., 0., 0., 0.],\n          [0., 0., 0., ..., 0., 0., 0.]],\n\n         [[0., 0., 0., ..., 0., 0., 0.],\n          [0., 0., 0., ..., 0., 0., 0.],\n          [0., 0., 0., ..., 0., 0., 0.],\n          ...,\n          [0., 0., 0., ..., 0., 0., 0.],\n          [0., 0., 0., ..., 0., 0., 0.],\n          [0., 0., 0., ..., 0., 0., 0.]],\n\n         [[0., 0., 0., ..., 0., 0., 0.],\n          [0., 0., 0., ..., 0., 0., 0.],\n          [0., 0., 0., ..., 0., 0., 0.],\n          ...,\n          [0., 0., 0., ..., 0., 0., 0.],\n          [0., 0., 0., ..., 0., 0., 0.],\n          [0., 0., 0., ..., 0., 0., 0.]]]],\n\n\n\n       [[[[0., 0., 0., ..., 0., 0., 0.],\n          [0., 0., 0., ..., 0., 0., 0.],\n          [0., 0., 0., ..., 0., 0., 0.],\n          ...,\n          [0., 0., 0., ..., 0., 0., 0.],\n          [0., 0., 0., ..., 0., 0., 0.],\n          [0., 0., 0., ..., 0., 0., 0.]],\n\n         [[0., 0., 0., ..., 0., 0., 0.],\n          [0., 0., 0., ..., 0., 0., 0.],\n          [0., 0., 0., ..., 0., 0., 0.],\n          ...,\n          [0., 0., 0., ..., 0., 0., 0.],\n          [0., 0., 0., ..., 0., 0., 0.],\n          [0., 0., 0., ..., 0., 0., 0.]],\n\n         [[0., 0., 0., ..., 0., 0., 0.],\n          [0., 0., 0., ..., 0., 0., 0.],\n          [0., 0., 0., ..., 0., 0., 0.],\n          ...,\n          [0., 0., 0., ..., 0., 0., 0.],\n          [0., 0., 0., ..., 0., 0., 0.],\n          [0., 0., 0., ..., 0., 0., 0.]],\n\n         ...,\n\n         [[0., 0., 0., ..., 0., 0., 0.],\n          [0., 0., 0., ..., 0., 0., 0.],\n          [0., 0., 0., ..., 0., 0., 0.],\n          ...,\n          [0., 0., 0., ..., 0., 0., 0.],\n          [0., 0., 0., ..., 0., 0., 0.],\n          [0., 0., 0., ..., 0., 0., 0.]],\n\n         [[0., 0., 0., ..., 0., 0., 0.],\n          [0., 0., 0., ..., 0., 0., 0.],\n          [0., 0., 0., ..., 0., 0., 0.],\n          ...,\n          [0., 0., 0., ..., 0., 0., 0.],\n          [0., 0., 0., ..., 0., 0., 0.],\n          [0., 0., 0., ..., 0., 0., 0.]],\n\n         [[0., 0., 0., ..., 0., 0., 0.],\n          [0., 0., 0., ..., 0., 0., 0.],\n          [0., 0., 0., ..., 0., 0., 0.],\n          ...,\n          [0., 0., 0., ..., 0., 0., 0.],\n          [0., 0., 0., ..., 0., 0., 0.],\n          [0., 0., 0., ..., 0., 0., 0.]]]],\n\n\n\n       [[[[0., 0., 0., ..., 0., 0., 0.],\n          [0., 0., 0., ..., 0., 0., 0.],\n          [0., 0., 0., ..., 0., 0., 0.],\n          ...,\n          [0., 0., 0., ..., 0., 0., 0.],\n          [0., 0., 0., ..., 0., 0., 0.],\n          [0., 0., 0., ..., 0., 0., 0.]],\n\n         [[0., 0., 0., ..., 0., 0., 0.],\n          [0., 0., 0., ..., 0., 0., 0.],\n          [0., 0., 0., ..., 0., 0., 0.],\n          ...,\n          [0., 0., 0., ..., 0., 0., 0.],\n          [0., 0., 0., ..., 0., 0., 0.],\n          [0., 0., 0., ..., 0., 0., 0.]],\n\n         [[0., 0., 0., ..., 0., 0., 0.],\n          [0., 0., 0., ..., 0., 0., 0.],\n          [0., 0., 0., ..., 0., 0., 0.],\n          ...,\n          [0., 0., 0., ..., 0., 0., 0.],\n          [0., 0., 0., ..., 0., 0., 0.],\n          [0., 0., 0., ..., 0., 0., 0.]],\n\n         ...,\n\n         [[0., 0., 0., ..., 0., 0., 0.],\n          [0., 0., 0., ..., 0., 0., 0.],\n          [0., 0., 0., ..., 0., 0., 0.],\n          ...,\n          [0., 0., 0., ..., 0., 0., 0.],\n          [0., 0., 0., ..., 0., 0., 0.],\n          [0., 0., 0., ..., 0., 0., 0.]],\n\n         [[0., 0., 0., ..., 0., 0., 0.],\n          [0., 0., 0., ..., 0., 0., 0.],\n          [0., 0., 0., ..., 0., 0., 0.],\n          ...,\n          [0., 0., 0., ..., 0., 0., 0.],\n          [0., 0., 0., ..., 0., 0., 0.],\n          [0., 0., 0., ..., 0., 0., 0.]],\n\n         [[0., 0., 0., ..., 0., 0., 0.],\n          [0., 0., 0., ..., 0., 0., 0.],\n          [0., 0., 0., ..., 0., 0., 0.],\n          ...,\n          [0., 0., 0., ..., 0., 0., 0.],\n          [0., 0., 0., ..., 0., 0., 0.],\n          [0., 0., 0., ..., 0., 0., 0.]]]]])"
     },
     "execution_count": 16,
     "metadata": {},
     "output_type": "execute_result"
    }
   ],
   "source": [
    "import numpy as np\n",
    "from sklearn.utils import shuffle\n",
    "\n",
    "x = np.zeros((16, 1, 128, 128, 64), dtype=\"float\")\n",
    "x"
   ],
   "metadata": {
    "collapsed": false,
    "pycharm": {
     "name": "#%%\n"
    }
   }
  },
  {
   "cell_type": "code",
   "execution_count": 28,
   "outputs": [
    {
     "data": {
      "text/plain": "numpy.ndarray"
     },
     "execution_count": 28,
     "metadata": {},
     "output_type": "execute_result"
    }
   ],
   "source": [
    "import SimpleITK as sitk\n",
    "import numpy as np\n",
    "import os\n",
    "\n",
    "reader = sitk.ImageSeriesReader() # Read series of image files into a SimpleITK image.\n",
    "\n",
    "dicom_names = sitk.ImageSeriesReader_GetGDCMSeriesFileNames(\"/Users/tingxuanhu/Desktop/dicom_images/Cryptococcosis/10GIJS3N\")\n",
    "\n",
    "reader.SetFileNames(dicom_names)\n",
    "image = reader.Execute()\n",
    "image_array = sitk.GetArrayFromImage(image)\n",
    "\n",
    "type(image_array)"
   ],
   "metadata": {
    "collapsed": false,
    "pycharm": {
     "name": "#%%\n"
    }
   }
  },
  {
   "cell_type": "code",
   "execution_count": 29,
   "outputs": [
    {
     "data": {
      "text/plain": "(64, 512, 512)"
     },
     "execution_count": 29,
     "metadata": {},
     "output_type": "execute_result"
    }
   ],
   "source": [
    "image_array.shape"
   ],
   "metadata": {
    "collapsed": false,
    "pycharm": {
     "name": "#%%\n"
    }
   }
  },
  {
   "cell_type": "code",
   "execution_count": 32,
   "outputs": [
    {
     "data": {
      "text/plain": "tuple"
     },
     "execution_count": 32,
     "metadata": {},
     "output_type": "execute_result"
    }
   ],
   "source": [],
   "metadata": {
    "collapsed": false,
    "pycharm": {
     "name": "#%%\n"
    }
   }
  },
  {
   "cell_type": "code",
   "execution_count": null,
   "outputs": [],
   "source": [],
   "metadata": {
    "collapsed": false,
    "pycharm": {
     "name": "#%%\n"
    }
   }
  }
 ],
 "metadata": {
  "kernelspec": {
   "display_name": "Python 3",
   "language": "python",
   "name": "python3"
  },
  "language_info": {
   "codemirror_mode": {
    "name": "ipython",
    "version": 2
   },
   "file_extension": ".py",
   "mimetype": "text/x-python",
   "name": "python",
   "nbconvert_exporter": "python",
   "pygments_lexer": "ipython2",
   "version": "2.7.6"
  }
 },
 "nbformat": 4,
 "nbformat_minor": 0
}